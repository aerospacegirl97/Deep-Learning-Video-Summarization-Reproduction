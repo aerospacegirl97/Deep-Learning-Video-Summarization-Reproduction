{
  "cells": [
    {
      "cell_type": "markdown",
      "metadata": {
        "id": "view-in-github",
        "colab_type": "text"
      },
      "source": [
        "<a href=\"https://colab.research.google.com/github/aerospacegirl97/DL_Reproducibility_Project/blob/main/16_03_model.ipynb\" target=\"_parent\"><img src=\"https://colab.research.google.com/assets/colab-badge.svg\" alt=\"Open In Colab\"/></a>"
      ]
    },
    {
      "cell_type": "code",
      "source": [
        "from google.colab import drive\n",
        "\n",
        "drive.mount('/content/gdrive')"
      ],
      "metadata": {
        "colab": {
          "base_uri": "https://localhost:8080/"
        },
        "id": "hbqGPwHg5egT",
        "outputId": "92351f82-e352-4981-85ae-d7b5c6d2077e"
      },
      "execution_count": 2,
      "outputs": [
        {
          "output_type": "stream",
          "name": "stdout",
          "text": [
            "Mounted at /content/gdrive\n"
          ]
        }
      ]
    },
    {
      "cell_type": "markdown",
      "metadata": {
        "id": "lhA0ip185dFd"
      },
      "source": [
        "# Define transforms.\n"
      ]
    },
    {
      "cell_type": "code",
      "execution_count": 3,
      "metadata": {
        "id": "TsEyyWHw5dFl"
      },
      "outputs": [],
      "source": [
        "import torch\n",
        "from torch import nn\n",
        "import torch.nn.functional as F\n",
        "from torchvision import transforms, datasets\n",
        "\n",
        "# Define the transform \n",
        "train_transform = transforms.Compose([\n",
        "        transforms.Resize((224,224)),             # takes PIL image as input and outputs PIL image\n",
        "        transforms.ToTensor(),              # takes PIL image as input and outputs torch.tensor\n",
        "        transforms.Normalize(mean=[0.4280, 0.4106, 0.3589],  # takes tensor and outputs tensor\n",
        "                             std=[0.2737, 0.2631, 0.2601]),  # see next step for mean and std\n",
        "    ])\n",
        "\n",
        "valid_transform = transforms.Compose([ \n",
        "        transforms.Resize((224,224)),             \n",
        "#         transforms.CenterCrop(224),\n",
        "        transforms.ToTensor(),\n",
        "        transforms.Normalize(mean=[0.4280, 0.4106, 0.3589],\n",
        "                             std=[0.2737, 0.2631, 0.2601]), \n",
        "    ])\n",
        "\n",
        "test_transform = transforms.Compose([\n",
        "        transforms.Resize((224,224)),             \n",
        "#         transforms.CenterCrop(224),\n",
        "        transforms.ToTensor(),\n",
        "        transforms.Normalize(mean=[0.4280, 0.4106, 0.3589],\n",
        "                             std=[0.2737, 0.2631, 0.2601]), \n",
        "    ])"
      ]
    },
    {
      "cell_type": "markdown",
      "metadata": {
        "id": "Y5Da4YrU5dFp"
      },
      "source": [
        "# Prepare the dataset for model training"
      ]
    },
    {
      "cell_type": "code",
      "execution_count": 4,
      "metadata": {
        "id": "4gu9Ul7z5dFr"
      },
      "outputs": [],
      "source": [
        "from torch.utils.data import Dataset\n",
        "from skimage import io\n",
        "from PIL import Image\n",
        "from matplotlib import cm\n",
        "import pandas as pd\n",
        "import numpy as np\n",
        "\n",
        "class dataset(Dataset):\n",
        "\n",
        "    def __init__(self, csv_file, root_dir, transform=None):\n",
        "        \"\"\"\n",
        "        Args:\n",
        "            csv_file (string): Path to the csv file with annotations.\n",
        "            root_dir (string): Directory with all the frames.\n",
        "            transform (callable, optional): Optional transform to be applied\n",
        "                on a sample.\n",
        "        \"\"\"\n",
        "        \n",
        "        self.query_frame_train = pd.read_csv(csv_file)\n",
        "        self.root_dir = root_dir\n",
        "        self.transform = transform\n",
        "\n",
        "    def __len__(self):\n",
        "        return len(self.query_frame_train) \n",
        "\n",
        "    \n",
        "\n",
        "    def __getitem__(self, idx): \n",
        "        if torch.is_tensor(idx):\n",
        "            idx = idx.tolist()\n",
        "            \n",
        "        img_name = os.path.join(self.root_dir,\n",
        "                    self.query_frame_train.iloc[idx, 2].split(\"/\")[len(self.query_frame_train.iloc[idx, 2].split(\"/\"))-2],\n",
        "                    self.query_frame_train.iloc[idx, 2].split(\"/\")[len(self.query_frame_train.iloc[idx, 2].split(\"/\"))-1])\n",
        "        \n",
        "        \n",
        "        image = io.imread(img_name) \n",
        "        query = self.query_frame_train.iloc[idx, 0]\n",
        "        score_annotations = self.query_frame_train.iloc[idx, 3:] \n",
        "        score_annotations = np.array([score_annotations])\n",
        "\n",
        "        score_annotations = score_annotations.astype('float').reshape(-1, )\n",
        "        \n",
        "        sample = {'image': image, 'query': query, 'score_annotations': score_annotations}\n",
        "\n",
        "        if self.transform:\n",
        "            sample['image'] = self.transform(Image.fromarray(sample['image']))\n",
        "            sample['score_annotations'] = torch.from_numpy(sample['score_annotations'])\n",
        "        return sample"
      ]
    },
    {
      "cell_type": "code",
      "source": [
        "train_scores = pd.read_csv('/content/gdrive/MyDrive/DL Reproducibility Project/Data/relevance_scores/majority_vote_test.csv', header=None)\n",
        "train_scores"
      ],
      "metadata": {
        "colab": {
          "base_uri": "https://localhost:8080/",
          "height": 423
        },
        "id": "krLJwjGT6IDd",
        "outputId": "861c34e6-2359-42fc-82ee-fa79bbd360f7"
      },
      "execution_count": 5,
      "outputs": [
        {
          "output_type": "execute_result",
          "data": {
            "text/plain": [
              "      0\n",
              "0     1\n",
              "1     2\n",
              "2     2\n",
              "3     2\n",
              "4     2\n",
              "...  ..\n",
              "5709  2\n",
              "5710  2\n",
              "5711  2\n",
              "5712  2\n",
              "5713  2\n",
              "\n",
              "[5714 rows x 1 columns]"
            ],
            "text/html": [
              "\n",
              "  <div id=\"df-c10c941f-86f2-4dbc-ad08-26e0fa0bca1c\">\n",
              "    <div class=\"colab-df-container\">\n",
              "      <div>\n",
              "<style scoped>\n",
              "    .dataframe tbody tr th:only-of-type {\n",
              "        vertical-align: middle;\n",
              "    }\n",
              "\n",
              "    .dataframe tbody tr th {\n",
              "        vertical-align: top;\n",
              "    }\n",
              "\n",
              "    .dataframe thead th {\n",
              "        text-align: right;\n",
              "    }\n",
              "</style>\n",
              "<table border=\"1\" class=\"dataframe\">\n",
              "  <thead>\n",
              "    <tr style=\"text-align: right;\">\n",
              "      <th></th>\n",
              "      <th>0</th>\n",
              "    </tr>\n",
              "  </thead>\n",
              "  <tbody>\n",
              "    <tr>\n",
              "      <th>0</th>\n",
              "      <td>1</td>\n",
              "    </tr>\n",
              "    <tr>\n",
              "      <th>1</th>\n",
              "      <td>2</td>\n",
              "    </tr>\n",
              "    <tr>\n",
              "      <th>2</th>\n",
              "      <td>2</td>\n",
              "    </tr>\n",
              "    <tr>\n",
              "      <th>3</th>\n",
              "      <td>2</td>\n",
              "    </tr>\n",
              "    <tr>\n",
              "      <th>4</th>\n",
              "      <td>2</td>\n",
              "    </tr>\n",
              "    <tr>\n",
              "      <th>...</th>\n",
              "      <td>...</td>\n",
              "    </tr>\n",
              "    <tr>\n",
              "      <th>5709</th>\n",
              "      <td>2</td>\n",
              "    </tr>\n",
              "    <tr>\n",
              "      <th>5710</th>\n",
              "      <td>2</td>\n",
              "    </tr>\n",
              "    <tr>\n",
              "      <th>5711</th>\n",
              "      <td>2</td>\n",
              "    </tr>\n",
              "    <tr>\n",
              "      <th>5712</th>\n",
              "      <td>2</td>\n",
              "    </tr>\n",
              "    <tr>\n",
              "      <th>5713</th>\n",
              "      <td>2</td>\n",
              "    </tr>\n",
              "  </tbody>\n",
              "</table>\n",
              "<p>5714 rows × 1 columns</p>\n",
              "</div>\n",
              "      <button class=\"colab-df-convert\" onclick=\"convertToInteractive('df-c10c941f-86f2-4dbc-ad08-26e0fa0bca1c')\"\n",
              "              title=\"Convert this dataframe to an interactive table.\"\n",
              "              style=\"display:none;\">\n",
              "        \n",
              "  <svg xmlns=\"http://www.w3.org/2000/svg\" height=\"24px\"viewBox=\"0 0 24 24\"\n",
              "       width=\"24px\">\n",
              "    <path d=\"M0 0h24v24H0V0z\" fill=\"none\"/>\n",
              "    <path d=\"M18.56 5.44l.94 2.06.94-2.06 2.06-.94-2.06-.94-.94-2.06-.94 2.06-2.06.94zm-11 1L8.5 8.5l.94-2.06 2.06-.94-2.06-.94L8.5 2.5l-.94 2.06-2.06.94zm10 10l.94 2.06.94-2.06 2.06-.94-2.06-.94-.94-2.06-.94 2.06-2.06.94z\"/><path d=\"M17.41 7.96l-1.37-1.37c-.4-.4-.92-.59-1.43-.59-.52 0-1.04.2-1.43.59L10.3 9.45l-7.72 7.72c-.78.78-.78 2.05 0 2.83L4 21.41c.39.39.9.59 1.41.59.51 0 1.02-.2 1.41-.59l7.78-7.78 2.81-2.81c.8-.78.8-2.07 0-2.86zM5.41 20L4 18.59l7.72-7.72 1.47 1.35L5.41 20z\"/>\n",
              "  </svg>\n",
              "      </button>\n",
              "      \n",
              "  <style>\n",
              "    .colab-df-container {\n",
              "      display:flex;\n",
              "      flex-wrap:wrap;\n",
              "      gap: 12px;\n",
              "    }\n",
              "\n",
              "    .colab-df-convert {\n",
              "      background-color: #E8F0FE;\n",
              "      border: none;\n",
              "      border-radius: 50%;\n",
              "      cursor: pointer;\n",
              "      display: none;\n",
              "      fill: #1967D2;\n",
              "      height: 32px;\n",
              "      padding: 0 0 0 0;\n",
              "      width: 32px;\n",
              "    }\n",
              "\n",
              "    .colab-df-convert:hover {\n",
              "      background-color: #E2EBFA;\n",
              "      box-shadow: 0px 1px 2px rgba(60, 64, 67, 0.3), 0px 1px 3px 1px rgba(60, 64, 67, 0.15);\n",
              "      fill: #174EA6;\n",
              "    }\n",
              "\n",
              "    [theme=dark] .colab-df-convert {\n",
              "      background-color: #3B4455;\n",
              "      fill: #D2E3FC;\n",
              "    }\n",
              "\n",
              "    [theme=dark] .colab-df-convert:hover {\n",
              "      background-color: #434B5C;\n",
              "      box-shadow: 0px 1px 3px 1px rgba(0, 0, 0, 0.15);\n",
              "      filter: drop-shadow(0px 1px 2px rgba(0, 0, 0, 0.3));\n",
              "      fill: #FFFFFF;\n",
              "    }\n",
              "  </style>\n",
              "\n",
              "      <script>\n",
              "        const buttonEl =\n",
              "          document.querySelector('#df-c10c941f-86f2-4dbc-ad08-26e0fa0bca1c button.colab-df-convert');\n",
              "        buttonEl.style.display =\n",
              "          google.colab.kernel.accessAllowed ? 'block' : 'none';\n",
              "\n",
              "        async function convertToInteractive(key) {\n",
              "          const element = document.querySelector('#df-c10c941f-86f2-4dbc-ad08-26e0fa0bca1c');\n",
              "          const dataTable =\n",
              "            await google.colab.kernel.invokeFunction('convertToInteractive',\n",
              "                                                     [key], {});\n",
              "          if (!dataTable) return;\n",
              "\n",
              "          const docLinkHtml = 'Like what you see? Visit the ' +\n",
              "            '<a target=\"_blank\" href=https://colab.research.google.com/notebooks/data_table.ipynb>data table notebook</a>'\n",
              "            + ' to learn more about interactive tables.';\n",
              "          element.innerHTML = '';\n",
              "          dataTable['output_type'] = 'display_data';\n",
              "          await google.colab.output.renderOutput(dataTable, element);\n",
              "          const docLink = document.createElement('div');\n",
              "          docLink.innerHTML = docLinkHtml;\n",
              "          element.appendChild(docLink);\n",
              "        }\n",
              "      </script>\n",
              "    </div>\n",
              "  </div>\n",
              "  "
            ]
          },
          "metadata": {},
          "execution_count": 5
        }
      ]
    },
    {
      "cell_type": "code",
      "source": [
        "img_dir = '/content/gdrive/MyDrive/DL Reproducibility Project/Data/Frames_for_code/TestImages'\n",
        "annotations = '/content/gdrive/MyDrive/DL Reproducibility Project/Data/relevance_scores/majority_vote_test.csv'\n",
        "\n",
        "test_dataset = dataset(csv_file = annotations, root_dir = img_dir)\n",
        "\n",
        "print(len(test_dataset))\n",
        "print(test_dataset.get(2))"
      ],
      "metadata": {
        "colab": {
          "base_uri": "https://localhost:8080/",
          "height": 339
        },
        "id": "6keDGW-s6FE8",
        "outputId": "99c68e3b-2e89-41c4-8e2f-58a164b9d619"
      },
      "execution_count": 6,
      "outputs": [
        {
          "output_type": "stream",
          "name": "stdout",
          "text": [
            "5713\n"
          ]
        },
        {
          "output_type": "error",
          "ename": "AttributeError",
          "evalue": "ignored",
          "traceback": [
            "\u001b[0;31m---------------------------------------------------------------------------\u001b[0m",
            "\u001b[0;31mAttributeError\u001b[0m                            Traceback (most recent call last)",
            "\u001b[0;32m<ipython-input-6-45daa63056bb>\u001b[0m in \u001b[0;36m<module>\u001b[0;34m()\u001b[0m\n\u001b[1;32m      5\u001b[0m \u001b[0;34m\u001b[0m\u001b[0m\n\u001b[1;32m      6\u001b[0m \u001b[0mprint\u001b[0m\u001b[0;34m(\u001b[0m\u001b[0mlen\u001b[0m\u001b[0;34m(\u001b[0m\u001b[0mtest_dataset\u001b[0m\u001b[0;34m)\u001b[0m\u001b[0;34m)\u001b[0m\u001b[0;34m\u001b[0m\u001b[0;34m\u001b[0m\u001b[0m\n\u001b[0;32m----> 7\u001b[0;31m \u001b[0mprint\u001b[0m\u001b[0;34m(\u001b[0m\u001b[0mtest_dataset\u001b[0m\u001b[0;34m.\u001b[0m\u001b[0mget\u001b[0m\u001b[0;34m(\u001b[0m\u001b[0;36m2\u001b[0m\u001b[0;34m)\u001b[0m\u001b[0;34m)\u001b[0m\u001b[0;34m\u001b[0m\u001b[0;34m\u001b[0m\u001b[0m\n\u001b[0m",
            "\u001b[0;32m/usr/local/lib/python3.7/dist-packages/torch/utils/data/dataset.py\u001b[0m in \u001b[0;36m__getattr__\u001b[0;34m(self, attribute_name)\u001b[0m\n\u001b[1;32m     81\u001b[0m             \u001b[0;32mreturn\u001b[0m \u001b[0mfunction\u001b[0m\u001b[0;34m\u001b[0m\u001b[0;34m\u001b[0m\u001b[0m\n\u001b[1;32m     82\u001b[0m         \u001b[0;32melse\u001b[0m\u001b[0;34m:\u001b[0m\u001b[0;34m\u001b[0m\u001b[0;34m\u001b[0m\u001b[0m\n\u001b[0;32m---> 83\u001b[0;31m             \u001b[0;32mraise\u001b[0m \u001b[0mAttributeError\u001b[0m\u001b[0;34m\u001b[0m\u001b[0;34m\u001b[0m\u001b[0m\n\u001b[0m\u001b[1;32m     84\u001b[0m \u001b[0;34m\u001b[0m\u001b[0m\n\u001b[1;32m     85\u001b[0m     \u001b[0;34m@\u001b[0m\u001b[0mclassmethod\u001b[0m\u001b[0;34m\u001b[0m\u001b[0;34m\u001b[0m\u001b[0m\n",
            "\u001b[0;31mAttributeError\u001b[0m: "
          ]
        }
      ]
    },
    {
      "cell_type": "markdown",
      "metadata": {
        "id": "BLQX7SgF5dFu"
      },
      "source": [
        "# Query embedding"
      ]
    },
    {
      "cell_type": "code",
      "execution_count": 7,
      "metadata": {
        "id": "fKInLFaa5dFw"
      },
      "outputs": [],
      "source": [
        "def query_embedding(box_train_query, word2index, max_length):\n",
        "    one_hot_x = encode_queries_index(box_train_query, word2index)\n",
        "\n",
        "    one_hot_x_same_length = []\n",
        "    for query in one_hot_x:\n",
        "        if len(query) < max_length:\n",
        "            query = [*query, *np.zeros(max_length -len(query))]\n",
        "        else:\n",
        "            query = query[:max_length]\n",
        "            \n",
        "        one_hot_x_same_length.append(query)\n",
        "        \n",
        "    return torch.Tensor(one_hot_x_same_length) # return a stack of tensors.\n",
        "\n",
        "def encode_queries_index(box_train_query, word2index):\n",
        "    encoded_titles = []\n",
        "    for title in box_train_query:\n",
        "        title_words = []\n",
        "        for word in title.split(\" \"):\n",
        "            title_words.append(word2index.index(word))\n",
        "        encoded_titles.append(title_words)\n",
        "        \n",
        "    return encoded_titles"
      ]
    },
    {
      "cell_type": "code",
      "source": [
        ""
      ],
      "metadata": {
        "id": "F_z0ltWUAjpY"
      },
      "execution_count": null,
      "outputs": []
    },
    {
      "cell_type": "markdown",
      "metadata": {
        "id": "oe49BFYw5dFy"
      },
      "source": [
        "# Define model"
      ]
    },
    {
      "cell_type": "code",
      "execution_count": null,
      "metadata": {
        "id": "XtnvFyGr5dFz"
      },
      "outputs": [],
      "source": [
        "from BasicModule import BasicModule\n",
        "from torch import nn\n",
        "from torch.nn import functional as F\n",
        "from torchvision import models\n",
        "from torchvision.models import resnet34\n",
        "\n",
        "class QVSmodel(BasicModule):\n",
        "\n",
        "    def __init__(self):\n",
        "        super(QVSmodel, self).__init__()\n",
        "        \n",
        "        self.model = resnet34(pretrained='imagenet')\n",
        "        self.model = models.resnet34(pretrained=True) \n",
        "        self.fc1 = torch.nn.Linear(512, 2)\n",
        "        \n",
        "        self.fc_text = torch.nn.Linear(8, 512)\n",
        "\n",
        "\n",
        "    def forward(self, x, y):\n",
        "        x = self.model.conv1(x)\n",
        "        x = self.model.bn1(x)\n",
        "        x = self.model.relu(x)\n",
        "        x = self.model.maxpool(x)\n",
        "        x = self.model.layer1(x)\n",
        "        x = self.model.layer2(x)\n",
        "        x = self.model.layer3(x)\n",
        "        x = self.model.layer4(x)     \n",
        "    \n",
        "    \n",
        "        x = F.avg_pool2d(x, 7)\n",
        "        \n",
        "        # reshape x\n",
        "        x = x.view(x.size(0), -1)\n",
        "    \n",
        "        y = F.relu(self.fc_text(y))\n",
        "        \n",
        "        #Combine x and y by element-wise multiplication. The output dimension is still (1, 512).\n",
        "        t1 = torch.mul(x, y)\n",
        "\n",
        "        #Computes the second fully connected layer\n",
        "        relevance_class_prediction = self.fc1(t1)\n",
        "        \n",
        "        return relevance_class_prediction"
      ]
    },
    {
      "cell_type": "markdown",
      "metadata": {
        "id": "Hus5Y0Zh5dF0"
      },
      "source": [
        "# Model training"
      ]
    },
    {
      "cell_type": "code",
      "execution_count": null,
      "metadata": {
        "id": "GgT9YTt-5dF2"
      },
      "outputs": [],
      "source": [
        "import os\n",
        "import time\n",
        "import torch.optim as optim\n",
        "\n",
        "def trainNet(model, batch_size, n_epochs, learning_rate):\n",
        "    \n",
        "    # For GPU\n",
        "    net = model.cuda()\n",
        "    net.train()  \n",
        "    \n",
        "    print(\"===== HYPERPARAMETERS =====\")\n",
        "    print(\"batch_size=\", batch_size)\n",
        "    print(\"epochs=\", n_epochs)\n",
        "    print(\"learning_rate=\", learning_rate)\n",
        "    print(\"=\" * 30)\n",
        "    \n",
        "    #Get data\n",
        "    data_loader = dataset\n",
        "    n_batches = len(data_loader) \n",
        "\n",
        "    loss = torch.nn.CrossEntropyLoss()\n",
        "\n",
        "    optimizer = optim.Adam(net.parameters(), lr = learning_rate)\n",
        "    \n",
        "    training_start_time = time.time()\n",
        "    \n",
        "    log_file = open('PATH') \n",
        "    \n",
        "    for epoch in range(n_epochs):\n",
        "        \n",
        "        count_relevance = 0\n",
        "        running_loss = 0.0\n",
        "        start_time = time.time()  \n",
        "        total_train_loss = 0\n",
        "        \n",
        "        for i_batch, sample_batched in enumerate(data_loader):\n",
        "            \n",
        "            labels_relevance = labels[:, 0]\n",
        "            \n",
        "            inputs = inputs.cuda()\n",
        "            labels_relevance = labels_relevance.cuda()\n",
        "    \n",
        "            #Get inputs\n",
        "            inputs, query, labels = sample_batched['image'], sample_batched['query'], \\\n",
        "            sample_batched['score_annotations']          \n",
        "            \n",
        "            #Wrap them in a Variable object\n",
        "            inputs, labels_relevance = Variable(inputs), Variable(labels_relevance)\n",
        "            \n",
        "            optimizer.zero_grad()\n",
        "            \n",
        "            outputs = net(inputs)\n",
        "\n",
        "            loss_size_1 = loss(outputs[0], labels_relevance.long())\n",
        "            loss_size = loss_size_1\n",
        "            loss_size.backward()\n",
        "            optimizer.step()  \n",
        "   \n",
        "            running_loss += loss_size.item()\n",
        "    \n",
        "            total_train_loss += loss_size.item()  \n",
        "           \n",
        "            #Compute accuracy\n",
        "            max_values_relevance, arg_maxs_relevance = torch.max(outputs[0], dim = 1)\n",
        "            num_correct_relevance = torch.sum(labels_relevance.long() == arg_maxs_relevance.long())\n",
        "            count_relevance = count_relevance + num_correct_relevance.item()\n",
        "        \n",
        "        \n",
        "            print(\"Epoch {}, {:d}% \\t train_loss_{}_batch: {:.4f} \\t took: {:.4f}s\".format(\n",
        "                        epoch+1, int(100 * (i_batch+1) / len(data_loader)), i_batch+1, running_loss, time.time() - start_time))\n",
        "\n",
        "            log_file.write(\"Epoch {}, {:d}% \\t train_loss_{}_batch: {:.4f} \\t took: {:.4f}s \\n\".format(\n",
        "                        epoch+1, int(100 * (i_batch+1) / len(data_loader)), i_batch+1, running_loss, time.time() - start_time))\n",
        "            log_file.flush()\n",
        "\n",
        "            running_loss = 0.0\n",
        "            start_time = time.time()\n",
        "\n",
        "        acc_relevance = (float(count_relevance)/(len(train_loader)*199))\n",
        "        print(\"Training accuracy_relevance = {:.4f} for epoch {}\".format(acc_relevance, epoch +1))\n",
        "\n",
        "\n",
        "    print(\"Training finished, took {:.4f}s\".format(time.time() - training_start_time))\n",
        "    \n",
        "    log_file.close() \n",
        "    return net"
      ]
    }
  ],
  "metadata": {
    "kernelspec": {
      "display_name": "Python 2",
      "language": "python",
      "name": "python2"
    },
    "language_info": {
      "codemirror_mode": {
        "name": "ipython",
        "version": 2
      },
      "file_extension": ".py",
      "mimetype": "text/x-python",
      "name": "python",
      "nbconvert_exporter": "python",
      "pygments_lexer": "ipython2",
      "version": "2.7.16"
    },
    "colab": {
      "name": "16_03_model.ipynb",
      "provenance": [],
      "collapsed_sections": [],
      "include_colab_link": true
    }
  },
  "nbformat": 4,
  "nbformat_minor": 0
}