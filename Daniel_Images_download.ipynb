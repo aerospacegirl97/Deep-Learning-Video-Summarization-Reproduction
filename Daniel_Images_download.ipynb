{
  "nbformat": 4,
  "nbformat_minor": 0,
  "metadata": {
    "colab": {
      "name": "Images_download.ipynb",
      "provenance": [],
      "collapsed_sections": [],
      "authorship_tag": "ABX9TyM7nyuPATaPU79fk6AO3eXC",
      "include_colab_link": true
    },
    "kernelspec": {
      "name": "python3",
      "display_name": "Python 3"
    },
    "language_info": {
      "name": "python"
    }
  },
  "cells": [
    {
      "cell_type": "markdown",
      "metadata": {
        "id": "view-in-github",
        "colab_type": "text"
      },
      "source": [
        "<a href=\"https://colab.research.google.com/github/aerospacegirl97/DL_Reproducibility_Project/blob/main/Daniel_Images_download.ipynb\" target=\"_parent\"><img src=\"https://colab.research.google.com/assets/colab-badge.svg\" alt=\"Open In Colab\"/></a>"
      ]
    },
    {
      "cell_type": "code",
      "execution_count": null,
      "metadata": {
        "id": "EV_0qqoDiGFO",
        "outputId": "3f7e5c3f-8d49-4940-989b-39eb93b495f0",
        "colab": {
          "base_uri": "https://localhost:8080/"
        }
      },
      "outputs": [
        {
          "output_type": "stream",
          "name": "stdout",
          "text": [
            "Mounted at /content/drive\n"
          ]
        }
      ],
      "source": [
        "from google.colab import drive\n",
        "drive.mount(\"/content/drive\")\n",
        "import torch\n",
        "import torchtext\n",
        "from torchtext.utils import download_from_url\n",
        "import pandas as pd"
      ]
    },
    {
      "cell_type": "code",
      "source": [
        "df=pd.read_excel('/content/drive/MyDrive/DL Reproducibility Project/Data/query_frame_annotations_test_todownload.xlsx')\n",
        "for index, row in df.iterrows():\n",
        "    torchtext.utils.download_from_url(df.iloc[index,0],'/content/drive/MyDrive/DL Reproducibility Project/Data/TestImages/{}.jpg'.format(index))"
      ],
      "metadata": {
        "id": "uJq6wsP3jqLx"
      },
      "execution_count": null,
      "outputs": []
    },
    {
      "cell_type": "code",
      "source": [
        "dfval=pd.read_excel('/content/drive/MyDrive/DL Reproducibility Project/Data/query_frame_annotations_val_todownload.xlsx')\n",
        "for index, row in dfval.iterrows():\n",
        "    torchtext.utils.download_from_url(dfval.iloc[index,0],'/content/drive/MyDrive/DL Reproducibility Project/Data/ValImages/{}.jpg'.format(index))"
      ],
      "metadata": {
        "id": "yt2s5Ks1jsCJ"
      },
      "execution_count": null,
      "outputs": []
    },
    {
      "cell_type": "code",
      "source": [
        "dftrain=pd.read_excel('/content/drive/MyDrive/DL Reproducibility Project/Data/query_frame_annotations_train_todownload.xlsx')\n",
        "for index, row in dftrain.iterrows():\n",
        "    torchtext.utils.download_from_url(dftrain.iloc[index,0],'/content/drive/MyDrive/DL Reproducibility Project/Data/TrainImages/{}.jpg'.format(index))"
      ],
      "metadata": {
        "id": "zINICAxukBph"
      },
      "execution_count": null,
      "outputs": []
    }
  ]
}